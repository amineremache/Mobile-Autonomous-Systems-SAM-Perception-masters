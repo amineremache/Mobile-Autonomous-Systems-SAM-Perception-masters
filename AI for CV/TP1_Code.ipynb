{
  "nbformat": 4,
  "nbformat_minor": 0,
  "metadata": {
    "kernelspec": {
      "display_name": "Python 3",
      "language": "python",
      "name": "python3"
    },
    "language_info": {
      "codemirror_mode": {
        "name": "ipython",
        "version": 3
      },
      "file_extension": ".py",
      "mimetype": "text/x-python",
      "name": "python",
      "nbconvert_exporter": "python",
      "pygments_lexer": "ipython3",
      "version": "3.6.9"
    },
    "colab": {
      "name": "TPCVAI_1.ipynb",
      "provenance": []
    },
    "accelerator": "GPU"
  },
  "cells": [
    {
      "cell_type": "code",
      "metadata": {
        "id": "nmb5qdmxgURE"
      },
      "source": [
        "#The goal of this TP is to propose a CNN for object classification\n",
        "#We will use the newdata dataset during this TP\n",
        "#Note : You should submit the completed notebook file and\n",
        "#a pdf file describing the different results"
      ],
      "execution_count": null,
      "outputs": []
    },
    {
      "cell_type": "markdown",
      "metadata": {
        "id": "vctZBjv5ZHEP"
      },
      "source": [
        "# Imports & setups"
      ]
    },
    {
      "cell_type": "code",
      "metadata": {
        "id": "RWUrYpc7ZF33"
      },
      "source": [
        "import torch\r\n",
        "from torch import nn\r\n",
        "from torch import optim\r\n",
        "from torch.nn import functional as F\r\n",
        "import torchvision\r\n",
        "from torchvision import transforms\r\n",
        "from torch.utils.data import DataLoader, Dataset\r\n",
        "from torchvision.datasets import ImageFolder\r\n",
        "\r\n",
        "import matplotlib.pyplot as plt\r\n",
        "import numpy as np"
      ],
      "execution_count": 1,
      "outputs": []
    },
    {
      "cell_type": "code",
      "metadata": {
        "colab": {
          "base_uri": "https://localhost:8080/"
        },
        "id": "MEbnlTYcRIOI",
        "outputId": "97ced59c-e29a-494c-fa2f-edc723f57d8a"
      },
      "source": [
        "device = torch.device(\"cuda:0\" if torch.cuda.is_available() else \"cpu\")\r\n",
        "print(device)"
      ],
      "execution_count": 2,
      "outputs": [
        {
          "output_type": "stream",
          "text": [
            "cuda:0\n"
          ],
          "name": "stdout"
        }
      ]
    },
    {
      "cell_type": "code",
      "metadata": {
        "id": "HRXJufTSagk7"
      },
      "source": [
        "%%capture\r\n",
        "!pip install wandb -q"
      ],
      "execution_count": 3,
      "outputs": []
    },
    {
      "cell_type": "code",
      "metadata": {
        "colab": {
          "base_uri": "https://localhost:8080/"
        },
        "id": "XkgqI9qMaiRc",
        "outputId": "4f5a7a6b-3516-483a-86ee-40653ea665b5"
      },
      "source": [
        "import wandb\r\n",
        "wandb.login()"
      ],
      "execution_count": 10,
      "outputs": [
        {
          "output_type": "stream",
          "text": [
            "\u001b[34m\u001b[1mwandb\u001b[0m: Currently logged in as: \u001b[33mamineremache\u001b[0m (use `wandb login --relogin` to force relogin)\n"
          ],
          "name": "stderr"
        },
        {
          "output_type": "execute_result",
          "data": {
            "text/plain": [
              "True"
            ]
          },
          "metadata": {
            "tags": []
          },
          "execution_count": 10
        }
      ]
    },
    {
      "cell_type": "markdown",
      "metadata": {
        "id": "9q16NxvgZPhF"
      },
      "source": [
        "# Dataset & Dataloader preparation "
      ]
    },
    {
      "cell_type": "code",
      "metadata": {
        "id": "4xuN-GRzNkFY"
      },
      "source": [
        "%%capture\r\n",
        "!unzip Newdata.zip && mv Newdata/Test/Shape1/ Newdata/Test/Cow/ && mv Newdata/Test/Shape2/ Newdata/Test/Horse/"
      ],
      "execution_count": null,
      "outputs": []
    },
    {
      "cell_type": "code",
      "metadata": {
        "id": "0v8SvosPROdi"
      },
      "source": [
        "BATCH_SIZE = 4\r\n",
        "\r\n",
        "data_transforms = {\r\n",
        "    'Train': transforms.Compose([\r\n",
        "        transforms.ToTensor(),\r\n",
        "        transforms.Normalize([0.485, 0.456, 0.406], [0.229, 0.224, 0.225])\r\n",
        "    ]),\r\n",
        "    'Test': transforms.Compose([\r\n",
        "        transforms.ToTensor(),\r\n",
        "        transforms.Normalize([0.485, 0.456, 0.406], [0.229, 0.224, 0.225])\r\n",
        "    ]),\r\n",
        "}\r\n",
        "\r\n",
        "trainset = ImageFolder('/content/Newdata/Train',data_transforms['Train'])\r\n",
        "trainloader = torch.utils.data.DataLoader(trainset, batch_size=BATCH_SIZE,\r\n",
        "                                          shuffle=True, num_workers=2)\r\n",
        "testset = ImageFolder('/content/Newdata/Test',data_transforms['Test'])\r\n",
        "testloader = torch.utils.data.DataLoader(testset, batch_size=BATCH_SIZE,\r\n",
        "                                         shuffle=False, num_workers=2)\r\n",
        "CLASS_NAMES = ('Cow', 'Horse')"
      ],
      "execution_count": 3,
      "outputs": []
    },
    {
      "cell_type": "markdown",
      "metadata": {
        "id": "4VbsG5RdZX_v"
      },
      "source": [
        "# Data vizualization"
      ]
    },
    {
      "cell_type": "code",
      "metadata": {
        "id": "5JRAeLcARteY"
      },
      "source": [
        "def show_batch(image_batch, label_batch):\r\n",
        "  plt.figure(figsize=(10,10))\r\n",
        "  for n in range(4):\r\n",
        "      ax = plt.subplot(5,5,n+1)\r\n",
        "      img = image_batch[n] / 2 + 0.5     # unnormalize\r\n",
        "      img = img.numpy()\r\n",
        "      plt.imshow(np.transpose(img, (1, 2, 0)))\r\n",
        "      plt.title(CLASS_NAMES[label_batch[n]])\r\n",
        "      plt.axis('off')"
      ],
      "execution_count": 4,
      "outputs": []
    },
    {
      "cell_type": "code",
      "metadata": {
        "colab": {
          "base_uri": "https://localhost:8080/",
          "height": 214
        },
        "id": "DSq-o31sRwXG",
        "outputId": "e2d1c171-6f57-4018-fc7c-1eeb09228e8b"
      },
      "source": [
        "sample_images, sample_labels = next(iter(trainloader))\r\n",
        "show_batch(sample_images, sample_labels)"
      ],
      "execution_count": 5,
      "outputs": [
        {
          "output_type": "stream",
          "text": [
            "Clipping input data to the valid range for imshow with RGB data ([0..1] for floats or [0..255] for integers).\n",
            "Clipping input data to the valid range for imshow with RGB data ([0..1] for floats or [0..255] for integers).\n",
            "Clipping input data to the valid range for imshow with RGB data ([0..1] for floats or [0..255] for integers).\n",
            "Clipping input data to the valid range for imshow with RGB data ([0..1] for floats or [0..255] for integers).\n"
          ],
          "name": "stderr"
        },
        {
          "output_type": "display_data",
          "data": {
            "image/png": "[encoded data removed]",
            "text/plain": [
              "<Figure size 720x720 with 4 Axes>"
            ]
          },
          "metadata": {
            "tags": [],
            "needs_background": "light"
          }
        }
      ]
    },
    {
      "cell_type": "markdown",
      "metadata": {
        "id": "5puCyh8rZc1F"
      },
      "source": [
        "# Building the model"
      ]
    },
    {
      "cell_type": "code",
      "metadata": {
        "id": "WhtZzOR4gURP"
      },
      "source": [
        "#From scratch design a shallow CNN composed of a set of conv, pool and FC layers\r\n",
        "\r\n",
        "class MyNet(nn.Module):\r\n",
        "    def __init__(self):\r\n",
        "        super(MyNet, self).__init__()\r\n",
        "        self.conv1 = nn.Conv2d(3, 6, 5)\r\n",
        "        self.pool = nn.MaxPool2d(2, 2)\r\n",
        "        self.conv2 = nn.Conv2d(6, 16, 5)\r\n",
        "        self.fc1 = nn.Linear(16 * 61 * 61, 120)\r\n",
        "        self.fc2 = nn.Linear(120, 84)\r\n",
        "        self.fc3 = nn.Linear(84, 2)\r\n",
        "\r\n",
        "    def forward(self, x):\r\n",
        "        x = self.pool(F.relu(self.conv1(x)))\r\n",
        "        x = self.pool(F.relu(self.conv2(x)))\r\n",
        "        x = x.view(x.size(0), 16 * 61 * 61)\r\n",
        "        x = F.relu(self.fc1(x))\r\n",
        "        x = F.relu(self.fc2(x))\r\n",
        "        x = self.fc3(x)\r\n",
        "        return x"
      ],
      "execution_count": 6,
      "outputs": []
    },
    {
      "cell_type": "code",
      "metadata": {
        "id": "8xCCtIhwaDO0"
      },
      "source": [
        "#Train the model\r\n",
        "#Plot the error vs epoch curve\r\n",
        "#Report the accuracy on the test set"
      ],
      "execution_count": null,
      "outputs": []
    },
    {
      "cell_type": "code",
      "metadata": {
        "id": "kXn4rr1SgURQ"
      },
      "source": [
        "def train(model, device, train_loader, optimizer, criterion, epoch, steps_per_epoch=20):\n",
        "  model.train()\n",
        "\n",
        "  train_loss = 0\n",
        "  train_total = 0\n",
        "  train_correct = 0\n",
        "\n",
        "  for batch_idx, (data, target) in enumerate(train_loader, start=0):\n",
        "    \n",
        "    data, target = data.to(device), target.to(device)\n",
        "    \n",
        "    optimizer.zero_grad()\n",
        "    \n",
        "    output = model(data)\n",
        "    \n",
        "    loss = criterion(output, target)\n",
        "    train_loss += loss.item()\n",
        "\n",
        "    scores, predictions = torch.max(output.data, 1)\n",
        "    train_total += target.size(0)\n",
        "    train_correct += int(sum(predictions == target))\n",
        "            \n",
        "    optimizer.zero_grad()\n",
        "\n",
        "    loss.backward()\n",
        "    \n",
        "    optimizer.step()\n",
        "\n",
        "  acc = round((train_correct / train_total) * 100, 2)\n",
        "  print('Epoch [{}], Loss: {}, Accuracy: {}'.format(epoch, train_loss/train_total, acc), end='')\n",
        "  wandb.log({'Train Loss': train_loss/train_total, 'Train Accuracy': acc, 'Epoch': epoch})"
      ],
      "execution_count": 7,
      "outputs": []
    },
    {
      "cell_type": "code",
      "metadata": {
        "id": "42Sg9KlKaHTi"
      },
      "source": [
        "def test(model, device, test_loader, criterion, epoch, classes):\r\n",
        "  model.eval()\r\n",
        "\r\n",
        "  test_loss = 0\r\n",
        "  test_total = 0\r\n",
        "  test_correct = 0\r\n",
        "\r\n",
        "  example_images = []\r\n",
        "  with torch.no_grad():\r\n",
        "      for data, target in test_loader:\r\n",
        "          data, target = data.to(device), target.to(device)\r\n",
        "          output = model(data)\r\n",
        "          test_loss += criterion(output, target).item()\r\n",
        "          \r\n",
        "          scores, predictions = torch.max(output.data, 1)\r\n",
        "          test_total += target.size(0)\r\n",
        "          test_correct += int(sum(predictions == target))\r\n",
        "\r\n",
        "  acc = round((test_correct / test_total) * 100, 2)\r\n",
        "  print(' Test_loss: {}, Test_accuracy: {}'.format(test_loss/test_total, acc))\r\n",
        "  wandb.log({'Test Loss': test_loss/test_total, 'Test Accuracy': acc, 'Epoch': epoch})"
      ],
      "execution_count": 8,
      "outputs": []
    },
    {
      "cell_type": "code",
      "metadata": {
        "colab": {
          "base_uri": "https://localhost:8080/",
          "height": 471
        },
        "id": "4HGiOmOwaGZw",
        "outputId": "cc17344e-6dbc-4342-9394-0e881d2dcc71"
      },
      "source": [
        "net = MyNet().to(device)\r\n",
        "print(net)\r\n",
        "\r\n",
        "criterion = nn.CrossEntropyLoss()\r\n",
        "optimizer = optim.Adam(net.parameters())\r\n",
        "\r\n",
        "wandb.init(project=\"tp_cvai\", entity=\"amineremache\")\r\n",
        "wandb.watch(net, log='all')\r\n",
        "\r\n",
        "for epoch in range(1,11):\r\n",
        "  train(net, device, trainloader, optimizer, criterion, epoch)\r\n",
        "  test(net, device, testloader, criterion, epoch, CLASS_NAMES)\r\n",
        "\r\n",
        "print('Finished Training')"
      ],
      "execution_count": 11,
      "outputs": [
        {
          "output_type": "stream",
          "text": [
            "MyNet(\n",
            "  (conv1): Conv2d(3, 6, kernel_size=(5, 5), stride=(1, 1))\n",
            "  (pool): MaxPool2d(kernel_size=2, stride=2, padding=0, dilation=1, ceil_mode=False)\n",
            "  (conv2): Conv2d(6, 16, kernel_size=(5, 5), stride=(1, 1))\n",
            "  (fc1): Linear(in_features=59536, out_features=120, bias=True)\n",
            "  (fc2): Linear(in_features=120, out_features=84, bias=True)\n",
            "  (fc3): Linear(in_features=84, out_features=2, bias=True)\n",
            ")\n"
          ],
          "name": "stdout"
        },
        {
          "output_type": "display_data",
          "data": {
            "text/html": [
              "\n",
              "                Tracking run with wandb version 0.10.12<br/>\n",
              "                Syncing run <strong style=\"color:#cdcd00\">comic-monkey-21</strong> to <a href=\"https://wandb.ai\" target=\"_blank\">Weights & Biases</a> <a href=\"https://docs.wandb.com/integrations/jupyter.html\" target=\"_blank\">(Documentation)</a>.<br/>\n",
              "                Project page: <a href=\"https://wandb.ai/amineremache/tp_cvai\" target=\"_blank\">https://wandb.ai/amineremache/tp_cvai</a><br/>\n",
              "                Run page: <a href=\"https://wandb.ai/amineremache/tp_cvai/runs/2t0r2dfj\" target=\"_blank\">https://wandb.ai/amineremache/tp_cvai/runs/2t0r2dfj</a><br/>\n",
              "                Run data is saved locally in <code>/content/wandb/run-20201215_114941-2t0r2dfj</code><br/><br/>\n",
              "            "
            ],
            "text/plain": [
              "<IPython.core.display.HTML object>"
            ]
          },
          "metadata": {
            "tags": []
          }
        },
        {
          "output_type": "stream",
          "text": [
            "Epoch [1], Loss: 0.09742051779673003, Accuracy: 79.27 Test_loss: 1.342318834868709, Test_accuracy: 47.56\n",
            "Epoch [2], Loss: 0.0012454407924735516, Accuracy: 100.0 Test_loss: 1.7893252903822683, Test_accuracy: 56.1\n",
            "Epoch [3], Loss: 0.07420612577444322, Accuracy: 97.56 Test_loss: 2.2546290837717233, Test_accuracy: 54.88\n",
            "Epoch [4], Loss: 1.2315200786088168e-06, Accuracy: 100.0 Test_loss: 1.7476923366520987, Test_accuracy: 56.1\n",
            "Epoch [5], Loss: 1.8516730924285453e-06, Accuracy: 100.0 Test_loss: 1.7968132591001718, Test_accuracy: 56.1\n",
            "Epoch [6], Loss: 4.531854465028573e-07, Accuracy: 100.0 Test_loss: 1.905437703714619, Test_accuracy: 56.1\n",
            "Epoch [7], Loss: 5.1972251889665354e-08, Accuracy: 100.0 Test_loss: 1.919474459651699, Test_accuracy: 56.1\n",
            "Epoch [8], Loss: 6.105830938954652e-08, Accuracy: 100.0 Test_loss: 1.9214592201188436, Test_accuracy: 56.1\n",
            "Epoch [9], Loss: 4.870127436288801e-08, Accuracy: 100.0 Test_loss: 1.9215058556893139, Test_accuracy: 56.1\n",
            "Epoch [10], Loss: 4.797439087723649e-08, Accuracy: 100.0 Test_loss: 1.9215123755245547, Test_accuracy: 56.1\n",
            "Finished Training\n"
          ],
          "name": "stdout"
        }
      ]
    },
    {
      "cell_type": "markdown",
      "metadata": {
        "id": "ZwTxuvD8GOdU"
      },
      "source": [
        "# Pre-trained model"
      ]
    },
    {
      "cell_type": "code",
      "metadata": {
        "id": "Qof8tpkIgURR"
      },
      "source": [
        "#Load in pre-trained weights from a network trained on a large dataset\r\n",
        "\r\n",
        "import torchvision.models as models\r\n",
        "\r\n",
        "vgg16 = models.vgg16(pretrained=True) # vgg16 trained on ImageNet-1000\r\n",
        "resnet = models.resnet18(pretrained=True) # resnet trained on ImageNet-1000"
      ],
      "execution_count": 12,
      "outputs": []
    },
    {
      "cell_type": "code",
      "metadata": {
        "colab": {
          "base_uri": "https://localhost:8080/"
        },
        "id": "73geU8DKxZmR",
        "outputId": "1cfd5bfd-2503-406c-956e-84b0566d2325"
      },
      "source": [
        "#Extract features from the train and test images using the pre-trained model\r\n",
        "#model = vgg16\r\n",
        "#model.fc = nn.Linear(4096, 2)\r\n",
        "model = resnet\r\n",
        "model.fc = nn.Linear(512, 2)\r\n",
        "model.cuda()\r\n",
        "\r\n",
        "net2 = model.to(device)\r\n",
        "\r\n",
        "criterion = nn.CrossEntropyLoss()\r\n",
        "optimizer = optim.Adam(net2.parameters())\r\n",
        "\r\n",
        "test(net2, device, testloader, criterion, 1, CLASS_NAMES)"
      ],
      "execution_count": 13,
      "outputs": [
        {
          "output_type": "stream",
          "text": [
            " Test_loss: 0.15864890268663082, Test_accuracy: 70.73\n"
          ],
          "name": "stdout"
        }
      ]
    },
    {
      "cell_type": "markdown",
      "metadata": {
        "id": "SjAMnGFkGRhM"
      },
      "source": [
        "# 1-Nearst Neighbour classifier"
      ]
    },
    {
      "cell_type": "code",
      "metadata": {
        "id": "sxAdOo8qgURT",
        "colab": {
          "base_uri": "https://localhost:8080/"
        },
        "outputId": "e97c32b1-8f49-42a6-e9b9-5f279195395d"
      },
      "source": [
        "#Classify the test images using a 1-nearst neighbour classifier\r\n",
        "\r\n",
        "import numpy as np\r\n",
        "from keras.preprocessing import image\r\n",
        "import cv2 as cv\r\n",
        "import matplotlib.pyplot as plt\r\n",
        "from pathlib import Path\r\n",
        "from sklearn.model_selection import GridSearchCV, train_test_split\r\n",
        "from skimage.io import imread\r\n",
        "print(\"Files imported successfully\")\r\n",
        "import pandas as pd\r\n",
        "import warnings\r\n",
        "warnings.filterwarnings('ignore')\r\n",
        "pd.set_option('display.max_columns', 30*30 + 1)\r\n",
        "\r\n",
        "\r\n",
        "def load_image_files(container_path, dimension=(224, 224)):\r\n",
        "    image_dir = Path(container_path)\r\n",
        "    folders = [directory for directory in image_dir.iterdir() if directory.is_dir()]\r\n",
        "    categories = [fo.name for fo in folders]\r\n",
        "    images = []\r\n",
        "    flat_data = []\r\n",
        "    target = []\r\n",
        "    count = 0\r\n",
        "    train_img = []\r\n",
        "    for i, direc in enumerate(folders):\r\n",
        "        for file in direc.iterdir():\r\n",
        "            count += 1\r\n",
        "            img = imread(file)\r\n",
        "            img = cv.cvtColor(img, cv.COLOR_BGR2GRAY)\r\n",
        "            img_pred = cv.resize(img, (50, 50), interpolation=cv.INTER_AREA)\r\n",
        "            img_pred = image.img_to_array(img_pred)\r\n",
        "            img_pred = img_pred / 255\r\n",
        "            train_img.append(img_pred)\r\n",
        "    X = np.array(train_img)\r\n",
        "    return X\r\n",
        "\r\n",
        "X = []\r\n",
        "X = load_image_files(\"/content/Newdata_merged\")\r\n",
        "\r\n",
        "y0 = np.zeros(82)\r\n",
        "y1 = np.ones(82)\r\n",
        "y = []\r\n",
        "y = np.concatenate((y0,y1), axis=0)\r\n",
        "X_train, X_test, y_train, y_test = train_test_split(X, y, random_state=42, test_size=0.2)\r\n",
        "X_val, X_test, y_val, y_test = train_test_split(X_test, y_test, random_state=42, test_size=0.5)\r\n",
        "\r\n",
        "from builtins import range\r\n",
        "from builtins import object\r\n",
        "\r\n",
        "num_training = X_train.shape[0]\r\n",
        "mask = list(range(num_training))\r\n",
        "X_train = X_train[mask]\r\n",
        "y_train = y_train[mask]\r\n",
        "\r\n",
        "num_test = X_test.shape[0]\r\n",
        "mask = list(range(num_test))\r\n",
        "X_test = X_test[mask]\r\n",
        "y_test = y_test[mask]\r\n",
        "\r\n",
        "num_val = X_val.shape[0]\r\n",
        "mask = list(range(num_val))\r\n",
        "X_val = X_val[mask]\r\n",
        "y_val = y_val[mask]\r\n",
        "\r\n",
        "X_train = np.reshape(X_train, (X_train.shape[0], -1))\r\n",
        "X_test = np.reshape(X_test, (X_test.shape[0], -1))\r\n",
        "X_val = np.reshape(X_val, (X_val.shape[0], -1))\r\n",
        "\r\n",
        "class KNearestNeighbor(object):\r\n",
        "    def __init__(self):\r\n",
        "        pass\r\n",
        "\r\n",
        "    def predict_label(self, dists, k=1):\r\n",
        "        num_test = dists.shape[0]\r\n",
        "        y_pred = np.zeros(num_test)\r\n",
        "        for i in range(num_test):\r\n",
        "            closest_y = []\r\n",
        "            closest_y = self.y_train[np.argsort(dists[i])][0:k]\r\n",
        "            y_pred[i] = np.bincount(closest_y).argmax()\r\n",
        "        return y_pred\r\n",
        "\r\n",
        "    def train(self, X, y):\r\n",
        "        self.X_train = X\r\n",
        "        self.y_train = y\r\n",
        "\r\n",
        "    def predict(self, X, k=1):\r\n",
        "        dists = self.compute_distances_no_loops(X)\r\n",
        "        return self.predict_labels(dists, k=k)\r\n",
        "\r\n",
        "    def compute_distances_no_loops(self, X):\r\n",
        "        num_test = X.shape[0]\r\n",
        "        num_train = self.X_train.shape[0]\r\n",
        "        dists = np.zeros((num_test, num_train))\r\n",
        "        dists = np.sqrt((X ** 2).sum(axis=1, keepdims=1) + (self.X_train ** 2).sum(axis=1) - 2 * X.dot(self.X_train.T))\r\n",
        "        return dists\r\n",
        "\r\n",
        "    def predict_labels(self, dists, k=1):\r\n",
        "        num_test = dists.shape[0]\r\n",
        "        y_pred = np.zeros(num_test)\r\n",
        "        for i in range(num_test):\r\n",
        "            closest_y = []\r\n",
        "            closest_y = self.y_train[np.argsort(dists[i])][0:k]\r\n",
        "            closest_y = closest_y.astype(int)\r\n",
        "            y_pred[i] = np.bincount(closest_y).argmax()\r\n",
        "        return y_pred\r\n",
        "\r\n",
        "print(\"Accuracy for k=1\")\r\n",
        "classifier = KNearestNeighbor()\r\n",
        "classifier.train(X_train, y_train)\r\n",
        "dists = classifier.compute_distances_no_loops(X_val)\r\n",
        "y_val_pred = classifier.predict_labels(dists, k=1)\r\n",
        "num_correct = np.sum(y_val_pred == y_val)\r\n",
        "accuracy = float(num_correct) / num_val\r\n",
        "print('Got %d / %d correct => accuracy: %f' % (num_correct, num_val, accuracy))"
      ],
      "execution_count": 14,
      "outputs": [
        {
          "output_type": "stream",
          "text": [
            "Files imported successfully\n",
            "Accuracy for k=1\n",
            "Got 15 / 16 correct => accuracy: 0.937500\n"
          ],
          "name": "stdout"
        }
      ]
    },
    {
      "cell_type": "markdown",
      "metadata": {
        "id": "j6MjJkenGZAl"
      },
      "source": [
        "# Freeze weights on convolutional layers"
      ]
    },
    {
      "cell_type": "code",
      "metadata": {
        "id": "F5xEb81JgURV"
      },
      "source": [
        "#Load in pre-trained weights from a network trained on a large dataset\n",
        "#Freeze all the weights in the convolutional layers\n",
        "model=vgg16\n",
        "for param in model.parameters():\n",
        "    param.requires_grad = False"
      ],
      "execution_count": 15,
      "outputs": []
    },
    {
      "cell_type": "code",
      "metadata": {
        "id": "nothJArxgURV"
      },
      "source": [
        "#Replace the FC layers of the network with a custom classifier\r\n",
        "\r\n",
        "model.classifier[6] = torch.nn.Sequential(\r\n",
        "                      torch.nn.Linear(4096, 256), \r\n",
        "                      torch.nn.ReLU(), \r\n",
        "                      torch.nn.Dropout(0.4),\r\n",
        "                      torch.nn.Linear(256, 2),                   \r\n",
        "                      torch.nn.LogSoftmax(dim=1))\r\n"
      ],
      "execution_count": 16,
      "outputs": []
    },
    {
      "cell_type": "code",
      "metadata": {
        "colab": {
          "base_uri": "https://localhost:8080/"
        },
        "id": "LjkTL0JXIniz",
        "outputId": "0300a310-dad8-4023-d98b-1f75aeb62391"
      },
      "source": [
        "# Find total parameters and trainable parameters\r\n",
        "total_params = sum(p.numel() for p in model.parameters())\r\n",
        "print(f'{total_params:,} total parameters.')\r\n",
        "total_trainable_params = sum(\r\n",
        "    p.numel() for p in model.parameters() if p.requires_grad)\r\n",
        "print(f'{total_trainable_params:,} training parameters.')"
      ],
      "execution_count": 17,
      "outputs": [
        {
          "output_type": "stream",
          "text": [
            "135,309,890 total parameters.\n",
            "1,049,346 training parameters.\n"
          ],
          "name": "stdout"
        }
      ]
    },
    {
      "cell_type": "code",
      "metadata": {
        "id": "uD4AKX-jJMCy"
      },
      "source": [
        "# Move to gpu\r\n",
        "model = model.to('cuda')\r\n",
        "# Distribute across 2 gpus\r\n",
        "model = nn.DataParallel(model)"
      ],
      "execution_count": 18,
      "outputs": []
    },
    {
      "cell_type": "code",
      "metadata": {
        "id": "fCQUZwCQgURW",
        "colab": {
          "base_uri": "https://localhost:8080/"
        },
        "outputId": "02fa3865-222f-4073-edbc-75094b364fdd"
      },
      "source": [
        "#Train only the FC layers for the object classification\r\n",
        "criterion = nn.CrossEntropyLoss()\r\n",
        "optimizer = optim.Adam(model.parameters())\r\n",
        "\r\n",
        "wandb.init(project=\"tp_cvai\", entity=\"amineremache\")\r\n",
        "wandb.watch(net, log='all')\r\n",
        "\r\n",
        "for epoch in range(1,11):\r\n",
        "  train(model, device, trainloader, optimizer, criterion, epoch)\r\n",
        "  test(model, device, testloader, criterion, epoch, CLASS_NAMES)"
      ],
      "execution_count": 91,
      "outputs": [
        {
          "output_type": "stream",
          "text": [
            "Epoch [1], Loss: 0.03996407306977389, Accuracy: 90.24 Test_loss: 0.16797634513355528, Test_accuracy: 69.51\n",
            "Epoch [2], Loss: 0.00032294223681552335, Accuracy: 100.0 Test_loss: 0.11599016749233869, Test_accuracy: 81.71\n",
            "Epoch [3], Loss: 0.0004160762673895898, Accuracy: 100.0 Test_loss: 0.10692685566577782, Test_accuracy: 81.71\n",
            "Epoch [4], Loss: 7.169364498032935e-05, Accuracy: 100.0 Test_loss: 0.11530913664106132, Test_accuracy: 81.71\n",
            "Epoch [5], Loss: 1.7466804728393536e-05, Accuracy: 100.0 Test_loss: 0.1281593883826778, Test_accuracy: 80.49\n",
            "Epoch [6], Loss: 3.1896402469716184e-06, Accuracy: 100.0 Test_loss: 0.10639597664277706, Test_accuracy: 82.93\n",
            "Epoch [7], Loss: 2.2464589032133186e-06, Accuracy: 100.0 Test_loss: 0.10746830579219244, Test_accuracy: 82.93\n",
            "Epoch [8], Loss: 8.413501087151245e-07, Accuracy: 100.0 Test_loss: 0.1094052735020452, Test_accuracy: 82.93\n",
            "Epoch [9], Loss: 4.6569697766290915e-05, Accuracy: 100.0 Test_loss: 0.1130421565740551, Test_accuracy: 81.71\n",
            "Epoch [10], Loss: 3.076914000791272e-06, Accuracy: 100.0 Test_loss: 0.10211694960747902, Test_accuracy: 85.37\n"
          ],
          "name": "stdout"
        }
      ]
    },
    {
      "cell_type": "markdown",
      "metadata": {
        "id": "QkK9H7-LNHk_"
      },
      "source": [
        "# Trying different optimizers"
      ]
    },
    {
      "cell_type": "code",
      "metadata": {
        "id": "bGDIqqNugURX",
        "colab": {
          "base_uri": "https://localhost:8080/"
        },
        "outputId": "c19929f4-1c80-4f69-f980-76b71c258a75"
      },
      "source": [
        "#Try different optimizers for the training\r\n",
        "\r\n",
        "criterion = nn.CrossEntropyLoss()\r\n",
        "optimizers = [optim.SGD, optim.Adadelta, optim.ASGD, optim.Adam]\r\n",
        "\r\n",
        "for optimizer in optimizers:\r\n",
        "  print(\"optimizer used for this training is : \",optimizer)\r\n",
        "  optimizer = optimizer(model.parameters(),lr=0.01)\r\n",
        "  for epoch in range(1,11):\r\n",
        "    train(model, device, trainloader, optimizer, criterion, epoch)\r\n",
        "    test(model, device, testloader, criterion, epoch, CLASS_NAMES)"
      ],
      "execution_count": 20,
      "outputs": [
        {
          "output_type": "stream",
          "text": [
            "optimizer used for this training is :  <class 'torch.optim.sgd.SGD'>\n",
            "Epoch [1], Loss: 0.07276152937514026, Accuracy: 92.68 Test_loss: 0.12550474994066285, Test_accuracy: 78.05\n",
            "Epoch [2], Loss: 0.023307438803518692, Accuracy: 97.56 Test_loss: 0.09910344005357928, Test_accuracy: 82.93\n",
            "Epoch [3], Loss: 0.00885908798564498, Accuracy: 100.0 Test_loss: 0.09506064762429493, Test_accuracy: 81.71\n",
            "Epoch [4], Loss: 0.007358124502366636, Accuracy: 100.0 Test_loss: 0.08753135714043932, Test_accuracy: 86.59\n",
            "Epoch [5], Loss: 0.004396107656137291, Accuracy: 100.0 Test_loss: 0.0891440687928258, Test_accuracy: 84.15\n",
            "Epoch [6], Loss: 0.0049324168130846285, Accuracy: 100.0 Test_loss: 0.08712191616253155, Test_accuracy: 84.15\n",
            "Epoch [7], Loss: 0.004875546193499936, Accuracy: 100.0 Test_loss: 0.10188374295830727, Test_accuracy: 81.71\n",
            "Epoch [8], Loss: 0.004386309591099256, Accuracy: 100.0 Test_loss: 0.09302827016246028, Test_accuracy: 81.71\n",
            "Epoch [9], Loss: 0.003978639690236688, Accuracy: 100.0 Test_loss: 0.08480625531477172, Test_accuracy: 85.37\n",
            "Epoch [10], Loss: 0.0016374851710258176, Accuracy: 100.0 Test_loss: 0.0847431968261556, Test_accuracy: 85.37\n",
            "optimizer used for this training is :  <class 'torch.optim.adadelta.Adadelta'>\n",
            "Epoch [1], Loss: 0.0017231997708000652, Accuracy: 100.0 Test_loss: 0.08387034036582564, Test_accuracy: 85.37\n",
            "Epoch [2], Loss: 0.0032115674084041796, Accuracy: 100.0 Test_loss: 0.08448955875526114, Test_accuracy: 85.37\n",
            "Epoch [3], Loss: 0.0014314739290545353, Accuracy: 100.0 Test_loss: 0.08507499643942205, Test_accuracy: 85.37\n",
            "Epoch [4], Loss: 0.0030024244652162363, Accuracy: 100.0 Test_loss: 0.08634318997402017, Test_accuracy: 85.37\n",
            "Epoch [5], Loss: 0.003347461526040783, Accuracy: 100.0 Test_loss: 0.0854605555806945, Test_accuracy: 85.37\n",
            "Epoch [6], Loss: 0.0016402692496141266, Accuracy: 100.0 Test_loss: 0.08498298912876989, Test_accuracy: 85.37\n",
            "Epoch [7], Loss: 0.0020751565195784743, Accuracy: 100.0 Test_loss: 0.08646492973515173, Test_accuracy: 85.37\n",
            "Epoch [8], Loss: 0.001220270260890219, Accuracy: 100.0 Test_loss: 0.08630398501891916, Test_accuracy: 85.37\n",
            "Epoch [9], Loss: 0.0013672838872369583, Accuracy: 100.0 Test_loss: 0.08674868455202114, Test_accuracy: 85.37\n",
            "Epoch [10], Loss: 0.0011108112721114772, Accuracy: 100.0 Test_loss: 0.0876869982244765, Test_accuracy: 85.37\n",
            "optimizer used for this training is :  <class 'torch.optim.asgd.ASGD'>\n",
            "Epoch [1], Loss: 0.0015816125432604345, Accuracy: 100.0 Test_loss: 0.08430659334834029, Test_accuracy: 85.37\n",
            "Epoch [2], Loss: 0.00409752301582158, Accuracy: 100.0 Test_loss: 0.0832278486341238, Test_accuracy: 85.37\n",
            "Epoch [3], Loss: 0.0008369867862755909, Accuracy: 100.0 Test_loss: 0.08224638519672359, Test_accuracy: 85.37\n",
            "Epoch [4], Loss: 0.0006801948533748368, Accuracy: 100.0 Test_loss: 0.08292057033537364, Test_accuracy: 85.37\n",
            "Epoch [5], Loss: 0.0010212549940461476, Accuracy: 100.0 Test_loss: 0.08257812034429574, Test_accuracy: 85.37\n",
            "Epoch [6], Loss: 0.0007760013503706787, Accuracy: 100.0 Test_loss: 0.08222511944520038, Test_accuracy: 85.37\n",
            "Epoch [7], Loss: 0.0009064634576178632, Accuracy: 100.0 Test_loss: 0.08345564359390154, Test_accuracy: 85.37\n",
            "Epoch [8], Loss: 0.0008202026567631969, Accuracy: 100.0 Test_loss: 0.08583251141556879, Test_accuracy: 85.37\n",
            "Epoch [9], Loss: 0.0007972565462540199, Accuracy: 100.0 Test_loss: 0.08382638069096862, Test_accuracy: 85.37\n",
            "Epoch [10], Loss: 0.0004861979673811087, Accuracy: 100.0 Test_loss: 0.08184591412725972, Test_accuracy: 85.37\n",
            "optimizer used for this training is :  <class 'torch.optim.adam.Adam'>\n",
            "Epoch [1], Loss: 0.38142130103999217, Accuracy: 93.9 Test_loss: 3.097906857002072, Test_accuracy: 60.98\n",
            "Epoch [2], Loss: 0.0, Accuracy: 100.0 Test_loss: 5.642386780605082, Test_accuracy: 58.54\n",
            "Epoch [3], Loss: 0.03806993728730737, Accuracy: 98.78 Test_loss: 1.9002404230889114, Test_accuracy: 69.51\n",
            "Epoch [4], Loss: 0.053747758797438046, Accuracy: 98.78 Test_loss: 8.671573871519508, Test_accuracy: 52.44\n",
            "Epoch [5], Loss: 0.2906241068025915, Accuracy: 98.78 Test_loss: 4.059912998501847, Test_accuracy: 68.29\n",
            "Epoch [6], Loss: 0.12825407293730234, Accuracy: 98.78 Test_loss: 9.014638602733612, Test_accuracy: 54.88\n",
            "Epoch [7], Loss: 0.16877447686544278, Accuracy: 97.56 Test_loss: 10.187940899918718, Test_accuracy: 64.63\n",
            "Epoch [8], Loss: 0.028344805647687214, Accuracy: 97.56 Test_loss: 21.254269297530012, Test_accuracy: 58.54\n",
            "Epoch [9], Loss: 0.32263717418763693, Accuracy: 97.56 Test_loss: 5.29282210512859, Test_accuracy: 79.27\n",
            "Epoch [10], Loss: 0.21261219862030772, Accuracy: 98.78 Test_loss: 5.4201229941554185, Test_accuracy: 78.05\n"
          ],
          "name": "stdout"
        }
      ]
    }
  ]
}